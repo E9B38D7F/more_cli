{
 "cells": [
  {
   "cell_type": "code",
   "execution_count": 1,
   "id": "1286cd50-215f-47f1-90ca-a24fcbc8268f",
   "metadata": {},
   "outputs": [],
   "source": [
    "import numpy as np\n",
    "import pandas as pd\n",
    "import matplotlib.pyplot as plt\n",
    "from nba_api.stats.endpoints import leaguegamefinder\n",
    "import line_profiler"
   ]
  },
  {
   "cell_type": "code",
   "execution_count": 2,
   "id": "38f64312-116e-4200-b144-930f11df98ca",
   "metadata": {},
   "outputs": [],
   "source": [
    "conference_df = pd.read_csv(\"data/conferences.csv\")\n",
    "conf_lists = {\n",
    "    \"east\": conference_df[conference_df[\"conference\"] == \"East\"][\"team\"].to_list(),\n",
    "    \"west\": conference_df[conference_df[\"conference\"] == \"West\"][\"team\"].to_list(),\n",
    "}"
   ]
  },
  {
   "cell_type": "code",
   "execution_count": 3,
   "id": "811b3f19-4832-437b-bfe2-a345e7fde370",
   "metadata": {},
   "outputs": [],
   "source": [
    "df = pd.read_csv(\"data/trim_df.csv\")\n",
    "df[\"winner\"] = np.where(df[\"home_win\"], df[\"home\"], df[\"away\"])"
   ]
  },
  {
   "cell_type": "code",
   "execution_count": 4,
   "id": "93666081-e841-44bf-bd2a-fab27a97d165",
   "metadata": {},
   "outputs": [],
   "source": [
    "def rank_to_win_prob(rank):\n",
    "    if rank <= 6: return 1 / 16\n",
    "    elif rank <= 8: return 3 / 64\n",
    "    elif rank <= 10: return 1 / 64\n",
    "    else: return 0"
   ]
  },
  {
   "cell_type": "code",
   "execution_count": 5,
   "id": "305d27da-ee5e-4c5a-b379-1a9e963eabf4",
   "metadata": {},
   "outputs": [],
   "source": [
    "def get_home_away_probs_given_lock(df, conf_lists, lock_index, iters=1000):\n",
    "    # Gets probs of winning league for teams at lock index\n",
    "    # Assuming the results for lock index and above\n",
    "    # note: dataframe's index is sequential starting at 0\n",
    "\n",
    "    # Initial housekeeping\n",
    "    df[\"lock\"] = df.index <= lock_index\n",
    "    home, away = df.loc[lock_index, \"home\"],  df.loc[lock_index, \"away\"]\n",
    "    home_conf = \"east\" if home in conf_lists[\"east\"] else \"west\"\n",
    "    away_conf = \"east\" if away in conf_lists[\"east\"] else \"west\"\n",
    "    home_playoff_prob, away_playoff_prob = 0, 0\n",
    "    home_champ_prob, away_champ_prob = 0, 0\n",
    "    team_names = df[\"home\"].unique()\n",
    "    start_standings = pd.Series(df[df[\"lock\"]][\"winner\"].value_counts(), index=team_names).fillna(0)\n",
    "        # if you do all value_counts inside the loop, it takes about 2/3 of runtime\n",
    "        # so doing the locked value_counts here saves about 1/2 that time\n",
    "\n",
    "    # Run the sims\n",
    "    for _ in range(iters):\n",
    "        df[\"winner\"] = np.where( # choose random winners where not already locked\n",
    "            df[\"lock\"],\n",
    "            df[\"winner\"],\n",
    "            np.where(\n",
    "                np.random.uniform(0, 1, len(df)) > 0.5,\n",
    "                df[\"home\"],\n",
    "                df[\"away\"]\n",
    "            )\n",
    "        )\n",
    "        # Get standings in each division\n",
    "        future_results = pd.Series(df[~df[\"lock\"]][\"winner\"].value_counts(), index=team_names).fillna(0)\n",
    "        standings = start_standings + future_results\n",
    "        standings += np.random.uniform(0, 0.001, len(standings)) # noise to break ties randomly\n",
    "        conf_standings = {\n",
    "            \"east\": standings.loc[conf_lists[\"east\"]].sort_values(ascending=False),\n",
    "            \"west\": standings.loc[conf_lists[\"west\"]].sort_values(ascending=False)\n",
    "        }\n",
    "        # print(conf_standings)\n",
    "        home_rank = conf_standings[home_conf].index.tolist().index(home) + 1\n",
    "        home_playoff_prob += home_rank <= 10\n",
    "        home_champ_prob += rank_to_win_prob(home_rank)\n",
    "        away_rank = conf_standings[away_conf].index.tolist().index(away) + 1\n",
    "        away_playoff_prob += away_rank <= 10\n",
    "        away_champ_prob += rank_to_win_prob(away_rank)\n",
    "\n",
    "    return (\n",
    "        home_playoff_prob / iters, \n",
    "        home_champ_prob / iters, \n",
    "        away_playoff_prob / iters,\n",
    "        away_champ_prob / iters\n",
    "    )"
   ]
  },
  {
   "cell_type": "code",
   "execution_count": 6,
   "id": "70a59ef6-f714-431e-a97d-9d2694e6a140",
   "metadata": {},
   "outputs": [],
   "source": [
    "def get_comparative_outcomes_for_index(df, conf_lists, game_index, iters=1000):\n",
    "    print(f\"\\tGame index {game_index}\")\n",
    "    copy_df = df.copy()\n",
    "    copy_df.loc[game_index, \"winner\"] = copy_df.loc[game_index, \"home\"]\n",
    "    hpg, hcg, apb, acb = get_home_away_probs_given_lock(copy_df, conf_lists, game_index, iters=iters)\n",
    "    copy_df.loc[game_index, \"winner\"] = copy_df.loc[game_index, \"away\"]\n",
    "    hpb, hcb, apg, acg = get_home_away_probs_given_lock(copy_df, conf_lists, game_index, iters=iters)\n",
    "    print(\"\\t\\t\", copy_df.loc[game_index, \"home\"], copy_df.loc[game_index, \"away\"])\n",
    "    print(\"\\t\\t\", hpg, hpb, hcg, hcb, apg, apb, acg, acb)\n",
    "    print(\"\\t\\t\", hpg - hpb, hcg - hcb, apg - apb, acg - acb)\n",
    "    # return hpg - hpb, hcg - hcb, apg - apb, acg - acb\n",
    "    return hpg, hpb, hcg, hcb, apg, apb, acg, acb"
   ]
  },
  {
   "cell_type": "code",
   "execution_count": 7,
   "id": "97a9fac1-afff-449c-8f8a-97525928d71d",
   "metadata": {},
   "outputs": [],
   "source": [
    "def get_cli_columns_whole_df(df, conf_lists, iters=1000):\n",
    "    # Ensure the index is gorgeous\n",
    "    copy_df = df.reset_index(drop=True)\n",
    "    cli_df = pd.DataFrame(\n",
    "        [\n",
    "            get_comparative_outcomes_for_index(copy_df, conf_lists, i, iters=iters)\n",
    "            for i in copy_df.index\n",
    "            # for i in range(0, len(copy_df), 250) # (Using this for line profiler)\n",
    "        ],\n",
    "        columns=[\"hpg\", \"hpb\", \"hcg\", \"hcb\", \"apg\", \"apb\", \"acg\", \"acb\"],\n",
    "        index=copy_df.index\n",
    "    )\n",
    "    return cli_df"
   ]
  },
  {
   "cell_type": "code",
   "execution_count": 8,
   "id": "fe0acb9a-298d-4dc0-b56d-5251a35caa9a",
   "metadata": {},
   "outputs": [],
   "source": [
    "def get_season_df(start_year):\n",
    "    gamefinder = leaguegamefinder.LeagueGameFinder(\n",
    "        season_nullable=f\"{start_year}-{str(start_year + 1)[2:]}\"\n",
    "    )\n",
    "    games_df_raw = gamefinder.get_data_frames()[0]\n",
    "    reg_season_doubled = games_df_raw[\n",
    "        (games_df_raw[\"GAME_ID\"].str[:3] == \"002\")\n",
    "        # 00 means NBA\n",
    "        # 2 means regular season\n",
    "    ].sort_values(by=\"GAME_DATE\")\n",
    "    trim_df = reg_season_doubled[reg_season_doubled[\"MATCHUP\"].str.contains(\"vs.\")]\n",
    "    short_to_long_dict = dict(zip(trim_df[\"MATCHUP\"].str[:3], trim_df[\"TEAM_NAME\"]))\n",
    "    new_df = pd.DataFrame({\n",
    "        \"home\": trim_df[\"TEAM_NAME\"],\n",
    "        \"away\": trim_df[\"MATCHUP\"].str[-3:].map(short_to_long_dict),\n",
    "        \"game_id\": trim_df[\"GAME_ID\"].str[2:], #trim to match format of current data\n",
    "        \"home_win\": trim_df[\"WL\"] == \"W\",\n",
    "        \"season_num\": start_year - 1952, \n",
    "        \"date\": trim_df[\"GAME_DATE\"],\n",
    "        \"reg_season\": True,\n",
    "    })\n",
    "    new_df[\"winner\"] = np.where(new_df[\"home_win\"], new_df[\"home\"], new_df[\"away\"])\n",
    "    return new_df.sort_values(by=\"date\")"
   ]
  },
  {
   "cell_type": "code",
   "execution_count": 9,
   "id": "ea5f9726-0a23-4b6d-928a-d7baa6cf7ad8",
   "metadata": {},
   "outputs": [
    {
     "ename": "KeyboardInterrupt",
     "evalue": "",
     "output_type": "error",
     "traceback": [
      "\u001b[31m---------------------------------------------------------------------------\u001b[39m",
      "\u001b[31mKeyboardInterrupt\u001b[39m                         Traceback (most recent call last)",
      "\u001b[36mCell\u001b[39m\u001b[36m \u001b[39m\u001b[32mIn[9]\u001b[39m\u001b[32m, line 3\u001b[39m\n\u001b[32m      1\u001b[39m season_starts = [\u001b[32m2020\u001b[39m, \u001b[32m2021\u001b[39m, \u001b[32m2022\u001b[39m, \u001b[32m2023\u001b[39m, \u001b[32m2024\u001b[39m]\n\u001b[32m      2\u001b[39m \u001b[38;5;28;01mfor\u001b[39;00m start_year \u001b[38;5;129;01min\u001b[39;00m season_starts:\n\u001b[32m----> \u001b[39m\u001b[32m3\u001b[39m     season_df = \u001b[43mget_season_df\u001b[49m\u001b[43m(\u001b[49m\u001b[43mstart_year\u001b[49m\u001b[43m)\u001b[49m\n\u001b[32m      4\u001b[39m     season_df.to_csv(\u001b[33mf\u001b[39m\u001b[33m\"\u001b[39m\u001b[33mdata/\u001b[39m\u001b[38;5;132;01m{\u001b[39;00mstart_year\u001b[38;5;132;01m}\u001b[39;00m\u001b[33m-\u001b[39m\u001b[38;5;132;01m{\u001b[39;00m\u001b[38;5;28mstr\u001b[39m(start_year\u001b[38;5;250m \u001b[39m+\u001b[38;5;250m \u001b[39m\u001b[32m1\u001b[39m)[\u001b[32m2\u001b[39m:]\u001b[38;5;132;01m}\u001b[39;00m\u001b[33m_season.csv\u001b[39m\u001b[33m\"\u001b[39m, index=\u001b[38;5;28;01mFalse\u001b[39;00m)\n",
      "\u001b[36mCell\u001b[39m\u001b[36m \u001b[39m\u001b[32mIn[8]\u001b[39m\u001b[32m, line 2\u001b[39m, in \u001b[36mget_season_df\u001b[39m\u001b[34m(start_year)\u001b[39m\n\u001b[32m      1\u001b[39m \u001b[38;5;28;01mdef\u001b[39;00m\u001b[38;5;250m \u001b[39m\u001b[34mget_season_df\u001b[39m(start_year):\n\u001b[32m----> \u001b[39m\u001b[32m2\u001b[39m     gamefinder = \u001b[43mleaguegamefinder\u001b[49m\u001b[43m.\u001b[49m\u001b[43mLeagueGameFinder\u001b[49m\u001b[43m(\u001b[49m\n\u001b[32m      3\u001b[39m \u001b[43m        \u001b[49m\u001b[43mseason_nullable\u001b[49m\u001b[43m=\u001b[49m\u001b[33;43mf\u001b[39;49m\u001b[33;43m\"\u001b[39;49m\u001b[38;5;132;43;01m{\u001b[39;49;00m\u001b[43mstart_year\u001b[49m\u001b[38;5;132;43;01m}\u001b[39;49;00m\u001b[33;43m-\u001b[39;49m\u001b[38;5;132;43;01m{\u001b[39;49;00m\u001b[38;5;28;43mstr\u001b[39;49m\u001b[43m(\u001b[49m\u001b[43mstart_year\u001b[49m\u001b[38;5;250;43m \u001b[39;49m\u001b[43m+\u001b[49m\u001b[38;5;250;43m \u001b[39;49m\u001b[32;43m1\u001b[39;49m\u001b[43m)\u001b[49m\u001b[43m[\u001b[49m\u001b[32;43m2\u001b[39;49m\u001b[43m:\u001b[49m\u001b[43m]\u001b[49m\u001b[38;5;132;43;01m}\u001b[39;49;00m\u001b[33;43m\"\u001b[39;49m\n\u001b[32m      4\u001b[39m \u001b[43m    \u001b[49m\u001b[43m)\u001b[49m\n\u001b[32m      5\u001b[39m     games_df_raw = gamefinder.get_data_frames()[\u001b[32m0\u001b[39m]\n\u001b[32m      6\u001b[39m     reg_season_doubled = games_df_raw[\n\u001b[32m      7\u001b[39m         (games_df_raw[\u001b[33m\"\u001b[39m\u001b[33mGAME_ID\u001b[39m\u001b[33m\"\u001b[39m].str[:\u001b[32m3\u001b[39m] == \u001b[33m\"\u001b[39m\u001b[33m002\u001b[39m\u001b[33m\"\u001b[39m)\n\u001b[32m      8\u001b[39m         \u001b[38;5;66;03m# 00 means NBA\u001b[39;00m\n\u001b[32m      9\u001b[39m         \u001b[38;5;66;03m# 2 means regular season\u001b[39;00m\n\u001b[32m     10\u001b[39m     ].sort_values(by=\u001b[33m\"\u001b[39m\u001b[33mGAME_DATE\u001b[39m\u001b[33m\"\u001b[39m)\n",
      "\u001b[36mFile \u001b[39m\u001b[32m~/miniforge3/envs/fastai_env/lib/python3.12/site-packages/nba_api/stats/endpoints/leaguegamefinder.py:249\u001b[39m, in \u001b[36mLeagueGameFinder.__init__\u001b[39m\u001b[34m(self, player_or_team_abbreviation, conference_nullable, date_from_nullable, date_to_nullable, division_simple_nullable, draft_number_nullable, draft_round_nullable, draft_team_id_nullable, draft_year_nullable, eq_ast_nullable, eq_blk_nullable, eq_dd_nullable, eq_dreb_nullable, eq_fg3a_nullable, eq_fg3m_nullable, eq_fg3_pct_nullable, eq_fga_nullable, eq_fgm_nullable, eq_fg_pct_nullable, eq_fta_nullable, eq_ftm_nullable, eq_ft_pct_nullable, eq_minutes_nullable, eq_oreb_nullable, eq_pf_nullable, eq_pts_nullable, eq_reb_nullable, eq_stl_nullable, eq_td_nullable, eq_tov_nullable, game_id_nullable, gt_ast_nullable, gt_blk_nullable, gt_dd_nullable, gt_dreb_nullable, gt_fg3a_nullable, gt_fg3m_nullable, gt_fg3_pct_nullable, gt_fga_nullable, gt_fgm_nullable, gt_fg_pct_nullable, gt_fta_nullable, gt_ftm_nullable, gt_ft_pct_nullable, gt_minutes_nullable, gt_oreb_nullable, gt_pf_nullable, gt_pts_nullable, gt_reb_nullable, gt_stl_nullable, gt_td_nullable, gt_tov_nullable, league_id_nullable, location_nullable, lt_ast_nullable, lt_blk_nullable, lt_dd_nullable, lt_dreb_nullable, lt_fg3a_nullable, lt_fg3m_nullable, lt_fg3_pct_nullable, lt_fga_nullable, lt_fgm_nullable, lt_fg_pct_nullable, lt_fta_nullable, lt_ftm_nullable, lt_ft_pct_nullable, lt_minutes_nullable, lt_oreb_nullable, lt_pf_nullable, lt_pts_nullable, lt_reb_nullable, lt_stl_nullable, lt_td_nullable, lt_tov_nullable, outcome_nullable, po_round_nullable, player_id_nullable, rookie_year_nullable, season_nullable, season_segment_nullable, season_type_nullable, starter_bench_nullable, team_id_nullable, vs_conference_nullable, vs_division_nullable, vs_team_id_nullable, years_experience_nullable, proxy, headers, timeout, get_request)\u001b[39m\n\u001b[32m    158\u001b[39m \u001b[38;5;28mself\u001b[39m.parameters = {\n\u001b[32m    159\u001b[39m     \u001b[33m\"\u001b[39m\u001b[33mPlayerOrTeam\u001b[39m\u001b[33m\"\u001b[39m: player_or_team_abbreviation,\n\u001b[32m    160\u001b[39m     \u001b[33m\"\u001b[39m\u001b[33mConference\u001b[39m\u001b[33m\"\u001b[39m: conference_nullable,\n\u001b[32m   (...)\u001b[39m\u001b[32m    246\u001b[39m     \u001b[33m\"\u001b[39m\u001b[33mYearsExperience\u001b[39m\u001b[33m\"\u001b[39m: years_experience_nullable,\n\u001b[32m    247\u001b[39m }\n\u001b[32m    248\u001b[39m \u001b[38;5;28;01mif\u001b[39;00m get_request:\n\u001b[32m--> \u001b[39m\u001b[32m249\u001b[39m     \u001b[38;5;28;43mself\u001b[39;49m\u001b[43m.\u001b[49m\u001b[43mget_request\u001b[49m\u001b[43m(\u001b[49m\u001b[43m)\u001b[49m\n",
      "\u001b[36mFile \u001b[39m\u001b[32m~/miniforge3/envs/fastai_env/lib/python3.12/site-packages/nba_api/stats/endpoints/leaguegamefinder.py:252\u001b[39m, in \u001b[36mLeagueGameFinder.get_request\u001b[39m\u001b[34m(self)\u001b[39m\n\u001b[32m    251\u001b[39m \u001b[38;5;28;01mdef\u001b[39;00m\u001b[38;5;250m \u001b[39m\u001b[34mget_request\u001b[39m(\u001b[38;5;28mself\u001b[39m):\n\u001b[32m--> \u001b[39m\u001b[32m252\u001b[39m     \u001b[38;5;28mself\u001b[39m.nba_response = \u001b[43mNBAStatsHTTP\u001b[49m\u001b[43m(\u001b[49m\u001b[43m)\u001b[49m\u001b[43m.\u001b[49m\u001b[43msend_api_request\u001b[49m\u001b[43m(\u001b[49m\n\u001b[32m    253\u001b[39m \u001b[43m        \u001b[49m\u001b[43mendpoint\u001b[49m\u001b[43m=\u001b[49m\u001b[38;5;28;43mself\u001b[39;49m\u001b[43m.\u001b[49m\u001b[43mendpoint\u001b[49m\u001b[43m,\u001b[49m\n\u001b[32m    254\u001b[39m \u001b[43m        \u001b[49m\u001b[43mparameters\u001b[49m\u001b[43m=\u001b[49m\u001b[38;5;28;43mself\u001b[39;49m\u001b[43m.\u001b[49m\u001b[43mparameters\u001b[49m\u001b[43m,\u001b[49m\n\u001b[32m    255\u001b[39m \u001b[43m        \u001b[49m\u001b[43mproxy\u001b[49m\u001b[43m=\u001b[49m\u001b[38;5;28;43mself\u001b[39;49m\u001b[43m.\u001b[49m\u001b[43mproxy\u001b[49m\u001b[43m,\u001b[49m\n\u001b[32m    256\u001b[39m \u001b[43m        \u001b[49m\u001b[43mheaders\u001b[49m\u001b[43m=\u001b[49m\u001b[38;5;28;43mself\u001b[39;49m\u001b[43m.\u001b[49m\u001b[43mheaders\u001b[49m\u001b[43m,\u001b[49m\n\u001b[32m    257\u001b[39m \u001b[43m        \u001b[49m\u001b[43mtimeout\u001b[49m\u001b[43m=\u001b[49m\u001b[38;5;28;43mself\u001b[39;49m\u001b[43m.\u001b[49m\u001b[43mtimeout\u001b[49m\u001b[43m,\u001b[49m\n\u001b[32m    258\u001b[39m \u001b[43m    \u001b[49m\u001b[43m)\u001b[49m\n\u001b[32m    259\u001b[39m     \u001b[38;5;28mself\u001b[39m.load_response()\n",
      "\u001b[36mFile \u001b[39m\u001b[32m~/miniforge3/envs/fastai_env/lib/python3.12/site-packages/nba_api/library/http.py:160\u001b[39m, in \u001b[36mNBAHTTP.send_api_request\u001b[39m\u001b[34m(self, endpoint, parameters, referer, proxy, headers, timeout, raise_exception_on_error)\u001b[39m\n\u001b[32m    157\u001b[39m         \u001b[38;5;28mprint\u001b[39m(\u001b[33m\"\u001b[39m\u001b[33mloading from file...\u001b[39m\u001b[33m\"\u001b[39m)\n\u001b[32m    159\u001b[39m \u001b[38;5;28;01mif\u001b[39;00m \u001b[38;5;129;01mnot\u001b[39;00m contents:\n\u001b[32m--> \u001b[39m\u001b[32m160\u001b[39m     response = \u001b[38;5;28;43mself\u001b[39;49m\u001b[43m.\u001b[49m\u001b[43mget_session\u001b[49m\u001b[43m(\u001b[49m\u001b[43m)\u001b[49m\u001b[43m.\u001b[49m\u001b[43mget\u001b[49m\u001b[43m(\u001b[49m\n\u001b[32m    161\u001b[39m \u001b[43m        \u001b[49m\u001b[43murl\u001b[49m\u001b[43m=\u001b[49m\u001b[43mbase_url\u001b[49m\u001b[43m,\u001b[49m\n\u001b[32m    162\u001b[39m \u001b[43m        \u001b[49m\u001b[43mparams\u001b[49m\u001b[43m=\u001b[49m\u001b[43mparameters\u001b[49m\u001b[43m,\u001b[49m\n\u001b[32m    163\u001b[39m \u001b[43m        \u001b[49m\u001b[43mheaders\u001b[49m\u001b[43m=\u001b[49m\u001b[43mrequest_headers\u001b[49m\u001b[43m,\u001b[49m\n\u001b[32m    164\u001b[39m \u001b[43m        \u001b[49m\u001b[43mproxies\u001b[49m\u001b[43m=\u001b[49m\u001b[43mproxies\u001b[49m\u001b[43m,\u001b[49m\n\u001b[32m    165\u001b[39m \u001b[43m        \u001b[49m\u001b[43mtimeout\u001b[49m\u001b[43m=\u001b[49m\u001b[43mtimeout\u001b[49m\u001b[43m,\u001b[49m\n\u001b[32m    166\u001b[39m \u001b[43m    \u001b[49m\u001b[43m)\u001b[49m\n\u001b[32m    167\u001b[39m     url = response.url\n\u001b[32m    168\u001b[39m     status_code = response.status_code\n",
      "\u001b[36mFile \u001b[39m\u001b[32m~/miniforge3/envs/fastai_env/lib/python3.12/site-packages/requests/sessions.py:602\u001b[39m, in \u001b[36mSession.get\u001b[39m\u001b[34m(self, url, **kwargs)\u001b[39m\n\u001b[32m    594\u001b[39m \u001b[38;5;250m\u001b[39m\u001b[33mr\u001b[39m\u001b[33;03m\"\"\"Sends a GET request. Returns :class:`Response` object.\u001b[39;00m\n\u001b[32m    595\u001b[39m \n\u001b[32m    596\u001b[39m \u001b[33;03m:param url: URL for the new :class:`Request` object.\u001b[39;00m\n\u001b[32m    597\u001b[39m \u001b[33;03m:param \\*\\*kwargs: Optional arguments that ``request`` takes.\u001b[39;00m\n\u001b[32m    598\u001b[39m \u001b[33;03m:rtype: requests.Response\u001b[39;00m\n\u001b[32m    599\u001b[39m \u001b[33;03m\"\"\"\u001b[39;00m\n\u001b[32m    601\u001b[39m kwargs.setdefault(\u001b[33m\"\u001b[39m\u001b[33mallow_redirects\u001b[39m\u001b[33m\"\u001b[39m, \u001b[38;5;28;01mTrue\u001b[39;00m)\n\u001b[32m--> \u001b[39m\u001b[32m602\u001b[39m \u001b[38;5;28;01mreturn\u001b[39;00m \u001b[38;5;28;43mself\u001b[39;49m\u001b[43m.\u001b[49m\u001b[43mrequest\u001b[49m\u001b[43m(\u001b[49m\u001b[33;43m\"\u001b[39;49m\u001b[33;43mGET\u001b[39;49m\u001b[33;43m\"\u001b[39;49m\u001b[43m,\u001b[49m\u001b[43m \u001b[49m\u001b[43murl\u001b[49m\u001b[43m,\u001b[49m\u001b[43m \u001b[49m\u001b[43m*\u001b[49m\u001b[43m*\u001b[49m\u001b[43mkwargs\u001b[49m\u001b[43m)\u001b[49m\n",
      "\u001b[36mFile \u001b[39m\u001b[32m~/miniforge3/envs/fastai_env/lib/python3.12/site-packages/requests/sessions.py:589\u001b[39m, in \u001b[36mSession.request\u001b[39m\u001b[34m(self, method, url, params, data, headers, cookies, files, auth, timeout, allow_redirects, proxies, hooks, stream, verify, cert, json)\u001b[39m\n\u001b[32m    584\u001b[39m send_kwargs = {\n\u001b[32m    585\u001b[39m     \u001b[33m\"\u001b[39m\u001b[33mtimeout\u001b[39m\u001b[33m\"\u001b[39m: timeout,\n\u001b[32m    586\u001b[39m     \u001b[33m\"\u001b[39m\u001b[33mallow_redirects\u001b[39m\u001b[33m\"\u001b[39m: allow_redirects,\n\u001b[32m    587\u001b[39m }\n\u001b[32m    588\u001b[39m send_kwargs.update(settings)\n\u001b[32m--> \u001b[39m\u001b[32m589\u001b[39m resp = \u001b[38;5;28;43mself\u001b[39;49m\u001b[43m.\u001b[49m\u001b[43msend\u001b[49m\u001b[43m(\u001b[49m\u001b[43mprep\u001b[49m\u001b[43m,\u001b[49m\u001b[43m \u001b[49m\u001b[43m*\u001b[49m\u001b[43m*\u001b[49m\u001b[43msend_kwargs\u001b[49m\u001b[43m)\u001b[49m\n\u001b[32m    591\u001b[39m \u001b[38;5;28;01mreturn\u001b[39;00m resp\n",
      "\u001b[36mFile \u001b[39m\u001b[32m~/miniforge3/envs/fastai_env/lib/python3.12/site-packages/requests/sessions.py:703\u001b[39m, in \u001b[36mSession.send\u001b[39m\u001b[34m(self, request, **kwargs)\u001b[39m\n\u001b[32m    700\u001b[39m start = preferred_clock()\n\u001b[32m    702\u001b[39m \u001b[38;5;66;03m# Send the request\u001b[39;00m\n\u001b[32m--> \u001b[39m\u001b[32m703\u001b[39m r = \u001b[43madapter\u001b[49m\u001b[43m.\u001b[49m\u001b[43msend\u001b[49m\u001b[43m(\u001b[49m\u001b[43mrequest\u001b[49m\u001b[43m,\u001b[49m\u001b[43m \u001b[49m\u001b[43m*\u001b[49m\u001b[43m*\u001b[49m\u001b[43mkwargs\u001b[49m\u001b[43m)\u001b[49m\n\u001b[32m    705\u001b[39m \u001b[38;5;66;03m# Total elapsed time of the request (approximately)\u001b[39;00m\n\u001b[32m    706\u001b[39m elapsed = preferred_clock() - start\n",
      "\u001b[36mFile \u001b[39m\u001b[32m~/miniforge3/envs/fastai_env/lib/python3.12/site-packages/requests/adapters.py:667\u001b[39m, in \u001b[36mHTTPAdapter.send\u001b[39m\u001b[34m(self, request, stream, timeout, verify, cert, proxies)\u001b[39m\n\u001b[32m    664\u001b[39m     timeout = TimeoutSauce(connect=timeout, read=timeout)\n\u001b[32m    666\u001b[39m \u001b[38;5;28;01mtry\u001b[39;00m:\n\u001b[32m--> \u001b[39m\u001b[32m667\u001b[39m     resp = \u001b[43mconn\u001b[49m\u001b[43m.\u001b[49m\u001b[43murlopen\u001b[49m\u001b[43m(\u001b[49m\n\u001b[32m    668\u001b[39m \u001b[43m        \u001b[49m\u001b[43mmethod\u001b[49m\u001b[43m=\u001b[49m\u001b[43mrequest\u001b[49m\u001b[43m.\u001b[49m\u001b[43mmethod\u001b[49m\u001b[43m,\u001b[49m\n\u001b[32m    669\u001b[39m \u001b[43m        \u001b[49m\u001b[43murl\u001b[49m\u001b[43m=\u001b[49m\u001b[43murl\u001b[49m\u001b[43m,\u001b[49m\n\u001b[32m    670\u001b[39m \u001b[43m        \u001b[49m\u001b[43mbody\u001b[49m\u001b[43m=\u001b[49m\u001b[43mrequest\u001b[49m\u001b[43m.\u001b[49m\u001b[43mbody\u001b[49m\u001b[43m,\u001b[49m\n\u001b[32m    671\u001b[39m \u001b[43m        \u001b[49m\u001b[43mheaders\u001b[49m\u001b[43m=\u001b[49m\u001b[43mrequest\u001b[49m\u001b[43m.\u001b[49m\u001b[43mheaders\u001b[49m\u001b[43m,\u001b[49m\n\u001b[32m    672\u001b[39m \u001b[43m        \u001b[49m\u001b[43mredirect\u001b[49m\u001b[43m=\u001b[49m\u001b[38;5;28;43;01mFalse\u001b[39;49;00m\u001b[43m,\u001b[49m\n\u001b[32m    673\u001b[39m \u001b[43m        \u001b[49m\u001b[43massert_same_host\u001b[49m\u001b[43m=\u001b[49m\u001b[38;5;28;43;01mFalse\u001b[39;49;00m\u001b[43m,\u001b[49m\n\u001b[32m    674\u001b[39m \u001b[43m        \u001b[49m\u001b[43mpreload_content\u001b[49m\u001b[43m=\u001b[49m\u001b[38;5;28;43;01mFalse\u001b[39;49;00m\u001b[43m,\u001b[49m\n\u001b[32m    675\u001b[39m \u001b[43m        \u001b[49m\u001b[43mdecode_content\u001b[49m\u001b[43m=\u001b[49m\u001b[38;5;28;43;01mFalse\u001b[39;49;00m\u001b[43m,\u001b[49m\n\u001b[32m    676\u001b[39m \u001b[43m        \u001b[49m\u001b[43mretries\u001b[49m\u001b[43m=\u001b[49m\u001b[38;5;28;43mself\u001b[39;49m\u001b[43m.\u001b[49m\u001b[43mmax_retries\u001b[49m\u001b[43m,\u001b[49m\n\u001b[32m    677\u001b[39m \u001b[43m        \u001b[49m\u001b[43mtimeout\u001b[49m\u001b[43m=\u001b[49m\u001b[43mtimeout\u001b[49m\u001b[43m,\u001b[49m\n\u001b[32m    678\u001b[39m \u001b[43m        \u001b[49m\u001b[43mchunked\u001b[49m\u001b[43m=\u001b[49m\u001b[43mchunked\u001b[49m\u001b[43m,\u001b[49m\n\u001b[32m    679\u001b[39m \u001b[43m    \u001b[49m\u001b[43m)\u001b[49m\n\u001b[32m    681\u001b[39m \u001b[38;5;28;01mexcept\u001b[39;00m (ProtocolError, \u001b[38;5;167;01mOSError\u001b[39;00m) \u001b[38;5;28;01mas\u001b[39;00m err:\n\u001b[32m    682\u001b[39m     \u001b[38;5;28;01mraise\u001b[39;00m \u001b[38;5;167;01mConnectionError\u001b[39;00m(err, request=request)\n",
      "\u001b[36mFile \u001b[39m\u001b[32m~/miniforge3/envs/fastai_env/lib/python3.12/site-packages/urllib3/connectionpool.py:787\u001b[39m, in \u001b[36mHTTPConnectionPool.urlopen\u001b[39m\u001b[34m(self, method, url, body, headers, retries, redirect, assert_same_host, timeout, pool_timeout, release_conn, chunked, body_pos, preload_content, decode_content, **response_kw)\u001b[39m\n\u001b[32m    784\u001b[39m response_conn = conn \u001b[38;5;28;01mif\u001b[39;00m \u001b[38;5;129;01mnot\u001b[39;00m release_conn \u001b[38;5;28;01melse\u001b[39;00m \u001b[38;5;28;01mNone\u001b[39;00m\n\u001b[32m    786\u001b[39m \u001b[38;5;66;03m# Make the request on the HTTPConnection object\u001b[39;00m\n\u001b[32m--> \u001b[39m\u001b[32m787\u001b[39m response = \u001b[38;5;28;43mself\u001b[39;49m\u001b[43m.\u001b[49m\u001b[43m_make_request\u001b[49m\u001b[43m(\u001b[49m\n\u001b[32m    788\u001b[39m \u001b[43m    \u001b[49m\u001b[43mconn\u001b[49m\u001b[43m,\u001b[49m\n\u001b[32m    789\u001b[39m \u001b[43m    \u001b[49m\u001b[43mmethod\u001b[49m\u001b[43m,\u001b[49m\n\u001b[32m    790\u001b[39m \u001b[43m    \u001b[49m\u001b[43murl\u001b[49m\u001b[43m,\u001b[49m\n\u001b[32m    791\u001b[39m \u001b[43m    \u001b[49m\u001b[43mtimeout\u001b[49m\u001b[43m=\u001b[49m\u001b[43mtimeout_obj\u001b[49m\u001b[43m,\u001b[49m\n\u001b[32m    792\u001b[39m \u001b[43m    \u001b[49m\u001b[43mbody\u001b[49m\u001b[43m=\u001b[49m\u001b[43mbody\u001b[49m\u001b[43m,\u001b[49m\n\u001b[32m    793\u001b[39m \u001b[43m    \u001b[49m\u001b[43mheaders\u001b[49m\u001b[43m=\u001b[49m\u001b[43mheaders\u001b[49m\u001b[43m,\u001b[49m\n\u001b[32m    794\u001b[39m \u001b[43m    \u001b[49m\u001b[43mchunked\u001b[49m\u001b[43m=\u001b[49m\u001b[43mchunked\u001b[49m\u001b[43m,\u001b[49m\n\u001b[32m    795\u001b[39m \u001b[43m    \u001b[49m\u001b[43mretries\u001b[49m\u001b[43m=\u001b[49m\u001b[43mretries\u001b[49m\u001b[43m,\u001b[49m\n\u001b[32m    796\u001b[39m \u001b[43m    \u001b[49m\u001b[43mresponse_conn\u001b[49m\u001b[43m=\u001b[49m\u001b[43mresponse_conn\u001b[49m\u001b[43m,\u001b[49m\n\u001b[32m    797\u001b[39m \u001b[43m    \u001b[49m\u001b[43mpreload_content\u001b[49m\u001b[43m=\u001b[49m\u001b[43mpreload_content\u001b[49m\u001b[43m,\u001b[49m\n\u001b[32m    798\u001b[39m \u001b[43m    \u001b[49m\u001b[43mdecode_content\u001b[49m\u001b[43m=\u001b[49m\u001b[43mdecode_content\u001b[49m\u001b[43m,\u001b[49m\n\u001b[32m    799\u001b[39m \u001b[43m    \u001b[49m\u001b[43m*\u001b[49m\u001b[43m*\u001b[49m\u001b[43mresponse_kw\u001b[49m\u001b[43m,\u001b[49m\n\u001b[32m    800\u001b[39m \u001b[43m\u001b[49m\u001b[43m)\u001b[49m\n\u001b[32m    802\u001b[39m \u001b[38;5;66;03m# Everything went great!\u001b[39;00m\n\u001b[32m    803\u001b[39m clean_exit = \u001b[38;5;28;01mTrue\u001b[39;00m\n",
      "\u001b[36mFile \u001b[39m\u001b[32m~/miniforge3/envs/fastai_env/lib/python3.12/site-packages/urllib3/connectionpool.py:534\u001b[39m, in \u001b[36mHTTPConnectionPool._make_request\u001b[39m\u001b[34m(self, conn, method, url, body, headers, retries, timeout, chunked, response_conn, preload_content, decode_content, enforce_content_length)\u001b[39m\n\u001b[32m    532\u001b[39m \u001b[38;5;66;03m# Receive the response from the server\u001b[39;00m\n\u001b[32m    533\u001b[39m \u001b[38;5;28;01mtry\u001b[39;00m:\n\u001b[32m--> \u001b[39m\u001b[32m534\u001b[39m     response = \u001b[43mconn\u001b[49m\u001b[43m.\u001b[49m\u001b[43mgetresponse\u001b[49m\u001b[43m(\u001b[49m\u001b[43m)\u001b[49m\n\u001b[32m    535\u001b[39m \u001b[38;5;28;01mexcept\u001b[39;00m (BaseSSLError, \u001b[38;5;167;01mOSError\u001b[39;00m) \u001b[38;5;28;01mas\u001b[39;00m e:\n\u001b[32m    536\u001b[39m     \u001b[38;5;28mself\u001b[39m._raise_timeout(err=e, url=url, timeout_value=read_timeout)\n",
      "\u001b[36mFile \u001b[39m\u001b[32m~/miniforge3/envs/fastai_env/lib/python3.12/site-packages/urllib3/connection.py:516\u001b[39m, in \u001b[36mHTTPConnection.getresponse\u001b[39m\u001b[34m(self)\u001b[39m\n\u001b[32m    513\u001b[39m _shutdown = \u001b[38;5;28mgetattr\u001b[39m(\u001b[38;5;28mself\u001b[39m.sock, \u001b[33m\"\u001b[39m\u001b[33mshutdown\u001b[39m\u001b[33m\"\u001b[39m, \u001b[38;5;28;01mNone\u001b[39;00m)\n\u001b[32m    515\u001b[39m \u001b[38;5;66;03m# Get the response from http.client.HTTPConnection\u001b[39;00m\n\u001b[32m--> \u001b[39m\u001b[32m516\u001b[39m httplib_response = \u001b[38;5;28;43msuper\u001b[39;49m\u001b[43m(\u001b[49m\u001b[43m)\u001b[49m\u001b[43m.\u001b[49m\u001b[43mgetresponse\u001b[49m\u001b[43m(\u001b[49m\u001b[43m)\u001b[49m\n\u001b[32m    518\u001b[39m \u001b[38;5;28;01mtry\u001b[39;00m:\n\u001b[32m    519\u001b[39m     assert_header_parsing(httplib_response.msg)\n",
      "\u001b[36mFile \u001b[39m\u001b[32m~/miniforge3/envs/fastai_env/lib/python3.12/http/client.py:1428\u001b[39m, in \u001b[36mHTTPConnection.getresponse\u001b[39m\u001b[34m(self)\u001b[39m\n\u001b[32m   1426\u001b[39m \u001b[38;5;28;01mtry\u001b[39;00m:\n\u001b[32m   1427\u001b[39m     \u001b[38;5;28;01mtry\u001b[39;00m:\n\u001b[32m-> \u001b[39m\u001b[32m1428\u001b[39m         \u001b[43mresponse\u001b[49m\u001b[43m.\u001b[49m\u001b[43mbegin\u001b[49m\u001b[43m(\u001b[49m\u001b[43m)\u001b[49m\n\u001b[32m   1429\u001b[39m     \u001b[38;5;28;01mexcept\u001b[39;00m \u001b[38;5;167;01mConnectionError\u001b[39;00m:\n\u001b[32m   1430\u001b[39m         \u001b[38;5;28mself\u001b[39m.close()\n",
      "\u001b[36mFile \u001b[39m\u001b[32m~/miniforge3/envs/fastai_env/lib/python3.12/http/client.py:331\u001b[39m, in \u001b[36mHTTPResponse.begin\u001b[39m\u001b[34m(self)\u001b[39m\n\u001b[32m    329\u001b[39m \u001b[38;5;66;03m# read until we get a non-100 response\u001b[39;00m\n\u001b[32m    330\u001b[39m \u001b[38;5;28;01mwhile\u001b[39;00m \u001b[38;5;28;01mTrue\u001b[39;00m:\n\u001b[32m--> \u001b[39m\u001b[32m331\u001b[39m     version, status, reason = \u001b[38;5;28;43mself\u001b[39;49m\u001b[43m.\u001b[49m\u001b[43m_read_status\u001b[49m\u001b[43m(\u001b[49m\u001b[43m)\u001b[49m\n\u001b[32m    332\u001b[39m     \u001b[38;5;28;01mif\u001b[39;00m status != CONTINUE:\n\u001b[32m    333\u001b[39m         \u001b[38;5;28;01mbreak\u001b[39;00m\n",
      "\u001b[36mFile \u001b[39m\u001b[32m~/miniforge3/envs/fastai_env/lib/python3.12/http/client.py:292\u001b[39m, in \u001b[36mHTTPResponse._read_status\u001b[39m\u001b[34m(self)\u001b[39m\n\u001b[32m    291\u001b[39m \u001b[38;5;28;01mdef\u001b[39;00m\u001b[38;5;250m \u001b[39m\u001b[34m_read_status\u001b[39m(\u001b[38;5;28mself\u001b[39m):\n\u001b[32m--> \u001b[39m\u001b[32m292\u001b[39m     line = \u001b[38;5;28mstr\u001b[39m(\u001b[38;5;28;43mself\u001b[39;49m\u001b[43m.\u001b[49m\u001b[43mfp\u001b[49m\u001b[43m.\u001b[49m\u001b[43mreadline\u001b[49m\u001b[43m(\u001b[49m\u001b[43m_MAXLINE\u001b[49m\u001b[43m \u001b[49m\u001b[43m+\u001b[49m\u001b[43m \u001b[49m\u001b[32;43m1\u001b[39;49m\u001b[43m)\u001b[49m, \u001b[33m\"\u001b[39m\u001b[33miso-8859-1\u001b[39m\u001b[33m\"\u001b[39m)\n\u001b[32m    293\u001b[39m     \u001b[38;5;28;01mif\u001b[39;00m \u001b[38;5;28mlen\u001b[39m(line) > _MAXLINE:\n\u001b[32m    294\u001b[39m         \u001b[38;5;28;01mraise\u001b[39;00m LineTooLong(\u001b[33m\"\u001b[39m\u001b[33mstatus line\u001b[39m\u001b[33m\"\u001b[39m)\n",
      "\u001b[36mFile \u001b[39m\u001b[32m~/miniforge3/envs/fastai_env/lib/python3.12/socket.py:707\u001b[39m, in \u001b[36mSocketIO.readinto\u001b[39m\u001b[34m(self, b)\u001b[39m\n\u001b[32m    705\u001b[39m \u001b[38;5;28;01mwhile\u001b[39;00m \u001b[38;5;28;01mTrue\u001b[39;00m:\n\u001b[32m    706\u001b[39m     \u001b[38;5;28;01mtry\u001b[39;00m:\n\u001b[32m--> \u001b[39m\u001b[32m707\u001b[39m         \u001b[38;5;28;01mreturn\u001b[39;00m \u001b[38;5;28;43mself\u001b[39;49m\u001b[43m.\u001b[49m\u001b[43m_sock\u001b[49m\u001b[43m.\u001b[49m\u001b[43mrecv_into\u001b[49m\u001b[43m(\u001b[49m\u001b[43mb\u001b[49m\u001b[43m)\u001b[49m\n\u001b[32m    708\u001b[39m     \u001b[38;5;28;01mexcept\u001b[39;00m timeout:\n\u001b[32m    709\u001b[39m         \u001b[38;5;28mself\u001b[39m._timeout_occurred = \u001b[38;5;28;01mTrue\u001b[39;00m\n",
      "\u001b[36mFile \u001b[39m\u001b[32m~/miniforge3/envs/fastai_env/lib/python3.12/ssl.py:1252\u001b[39m, in \u001b[36mSSLSocket.recv_into\u001b[39m\u001b[34m(self, buffer, nbytes, flags)\u001b[39m\n\u001b[32m   1248\u001b[39m     \u001b[38;5;28;01mif\u001b[39;00m flags != \u001b[32m0\u001b[39m:\n\u001b[32m   1249\u001b[39m         \u001b[38;5;28;01mraise\u001b[39;00m \u001b[38;5;167;01mValueError\u001b[39;00m(\n\u001b[32m   1250\u001b[39m           \u001b[33m\"\u001b[39m\u001b[33mnon-zero flags not allowed in calls to recv_into() on \u001b[39m\u001b[38;5;132;01m%s\u001b[39;00m\u001b[33m\"\u001b[39m %\n\u001b[32m   1251\u001b[39m           \u001b[38;5;28mself\u001b[39m.\u001b[34m__class__\u001b[39m)\n\u001b[32m-> \u001b[39m\u001b[32m1252\u001b[39m     \u001b[38;5;28;01mreturn\u001b[39;00m \u001b[38;5;28;43mself\u001b[39;49m\u001b[43m.\u001b[49m\u001b[43mread\u001b[49m\u001b[43m(\u001b[49m\u001b[43mnbytes\u001b[49m\u001b[43m,\u001b[49m\u001b[43m \u001b[49m\u001b[43mbuffer\u001b[49m\u001b[43m)\u001b[49m\n\u001b[32m   1253\u001b[39m \u001b[38;5;28;01melse\u001b[39;00m:\n\u001b[32m   1254\u001b[39m     \u001b[38;5;28;01mreturn\u001b[39;00m \u001b[38;5;28msuper\u001b[39m().recv_into(buffer, nbytes, flags)\n",
      "\u001b[36mFile \u001b[39m\u001b[32m~/miniforge3/envs/fastai_env/lib/python3.12/ssl.py:1104\u001b[39m, in \u001b[36mSSLSocket.read\u001b[39m\u001b[34m(self, len, buffer)\u001b[39m\n\u001b[32m   1102\u001b[39m \u001b[38;5;28;01mtry\u001b[39;00m:\n\u001b[32m   1103\u001b[39m     \u001b[38;5;28;01mif\u001b[39;00m buffer \u001b[38;5;129;01mis\u001b[39;00m \u001b[38;5;129;01mnot\u001b[39;00m \u001b[38;5;28;01mNone\u001b[39;00m:\n\u001b[32m-> \u001b[39m\u001b[32m1104\u001b[39m         \u001b[38;5;28;01mreturn\u001b[39;00m \u001b[38;5;28;43mself\u001b[39;49m\u001b[43m.\u001b[49m\u001b[43m_sslobj\u001b[49m\u001b[43m.\u001b[49m\u001b[43mread\u001b[49m\u001b[43m(\u001b[49m\u001b[38;5;28;43mlen\u001b[39;49m\u001b[43m,\u001b[49m\u001b[43m \u001b[49m\u001b[43mbuffer\u001b[49m\u001b[43m)\u001b[49m\n\u001b[32m   1105\u001b[39m     \u001b[38;5;28;01melse\u001b[39;00m:\n\u001b[32m   1106\u001b[39m         \u001b[38;5;28;01mreturn\u001b[39;00m \u001b[38;5;28mself\u001b[39m._sslobj.read(\u001b[38;5;28mlen\u001b[39m)\n",
      "\u001b[31mKeyboardInterrupt\u001b[39m: "
     ]
    }
   ],
   "source": [
    "# Download season data from nba api\n",
    "season_starts = [2020, 2021, 2022, 2023, 2024]\n",
    "for start_year in season_starts:\n",
    "    season_df = get_season_df(start_year)\n",
    "    season_df.to_csv(f\"data/{start_year}-{str(start_year + 1)[2:]}_season.csv\", index=False)"
   ]
  },
  {
   "cell_type": "code",
   "execution_count": 11,
   "id": "d761eaef-ee7a-4885-8e94-a301eed4a995",
   "metadata": {},
   "outputs": [
    {
     "name": "stdout",
     "output_type": "stream",
     "text": [
      "STARTING SEASON 2024\n",
      "\tGame index 0\n",
      "\t\t Los Angeles Lakers Minnesota Timberwolves\n",
      "\t\t 0.715 0.6368 0.0367078125 0.0311390625 0.7173 0.6382 0.0366421875 0.03125625\n",
      "\t\t 0.07819999999999994 0.005568750000000001 0.07910000000000006 0.0053859375\n",
      "\tGame index 1\n"
     ]
    },
    {
     "ename": "KeyboardInterrupt",
     "evalue": "",
     "output_type": "error",
     "traceback": [
      "\u001b[31m---------------------------------------------------------------------------\u001b[39m",
      "\u001b[31mKeyboardInterrupt\u001b[39m                         Traceback (most recent call last)",
      "\u001b[36mCell\u001b[39m\u001b[36m \u001b[39m\u001b[32mIn[11]\u001b[39m\u001b[32m, line 5\u001b[39m\n\u001b[32m      3\u001b[39m \u001b[38;5;28mprint\u001b[39m(\u001b[33mf\u001b[39m\u001b[33m\"\u001b[39m\u001b[33mSTARTING SEASON \u001b[39m\u001b[38;5;132;01m{\u001b[39;00mstart_year\u001b[38;5;132;01m}\u001b[39;00m\u001b[33m\"\u001b[39m)\n\u001b[32m      4\u001b[39m season_df = pd.read_csv(\u001b[33mf\u001b[39m\u001b[33m\"\u001b[39m\u001b[33mdata/\u001b[39m\u001b[38;5;132;01m{\u001b[39;00mstart_year\u001b[38;5;132;01m}\u001b[39;00m\u001b[33m-\u001b[39m\u001b[38;5;132;01m{\u001b[39;00m\u001b[38;5;28mstr\u001b[39m(start_year\u001b[38;5;250m \u001b[39m+\u001b[38;5;250m \u001b[39m\u001b[32m1\u001b[39m)[\u001b[32m2\u001b[39m:]\u001b[38;5;132;01m}\u001b[39;00m\u001b[33m_season.csv\u001b[39m\u001b[33m\"\u001b[39m)\n\u001b[32m----> \u001b[39m\u001b[32m5\u001b[39m cli_df = \u001b[43mget_cli_columns_whole_df\u001b[49m\u001b[43m(\u001b[49m\u001b[43mseason_df\u001b[49m\u001b[43m,\u001b[49m\u001b[43m \u001b[49m\u001b[43mconf_lists\u001b[49m\u001b[43m,\u001b[49m\u001b[43m \u001b[49m\u001b[43miters\u001b[49m\u001b[43m=\u001b[49m\u001b[43miters\u001b[49m\u001b[43m)\u001b[49m\n\u001b[32m      6\u001b[39m df_plus_cli = pd.concat([season_df, cli_df], axis=\u001b[32m1\u001b[39m)\n\u001b[32m      7\u001b[39m df_plus_cli.to_csv(\u001b[33mf\u001b[39m\u001b[33m\"\u001b[39m\u001b[33mdata/\u001b[39m\u001b[38;5;132;01m{\u001b[39;00mstart_year\u001b[38;5;132;01m}\u001b[39;00m\u001b[33m-\u001b[39m\u001b[38;5;132;01m{\u001b[39;00m\u001b[38;5;28mstr\u001b[39m(start_year\u001b[38;5;250m \u001b[39m+\u001b[38;5;250m \u001b[39m\u001b[32m1\u001b[39m)[\u001b[32m2\u001b[39m:]\u001b[38;5;132;01m}\u001b[39;00m\u001b[33m_season_cli.csv\u001b[39m\u001b[33m\"\u001b[39m, index=\u001b[38;5;28;01mFalse\u001b[39;00m)\n",
      "\u001b[36mCell\u001b[39m\u001b[36m \u001b[39m\u001b[32mIn[7]\u001b[39m\u001b[32m, line 6\u001b[39m, in \u001b[36mget_cli_columns_whole_df\u001b[39m\u001b[34m(df, conf_lists, iters)\u001b[39m\n\u001b[32m      1\u001b[39m \u001b[38;5;28;01mdef\u001b[39;00m\u001b[38;5;250m \u001b[39m\u001b[34mget_cli_columns_whole_df\u001b[39m(df, conf_lists, iters=\u001b[32m1000\u001b[39m):\n\u001b[32m      2\u001b[39m     \u001b[38;5;66;03m# Ensure the index is gorgeous\u001b[39;00m\n\u001b[32m      3\u001b[39m     copy_df = df.reset_index(drop=\u001b[38;5;28;01mTrue\u001b[39;00m)\n\u001b[32m      4\u001b[39m     cli_df = pd.DataFrame(\n\u001b[32m      5\u001b[39m         [\n\u001b[32m----> \u001b[39m\u001b[32m6\u001b[39m             \u001b[43mget_comparative_outcomes_for_index\u001b[49m\u001b[43m(\u001b[49m\u001b[43mcopy_df\u001b[49m\u001b[43m,\u001b[49m\u001b[43m \u001b[49m\u001b[43mconf_lists\u001b[49m\u001b[43m,\u001b[49m\u001b[43m \u001b[49m\u001b[43mi\u001b[49m\u001b[43m,\u001b[49m\u001b[43m \u001b[49m\u001b[43miters\u001b[49m\u001b[43m=\u001b[49m\u001b[43miters\u001b[49m\u001b[43m)\u001b[49m\n\u001b[32m      7\u001b[39m             \u001b[38;5;28;01mfor\u001b[39;00m i \u001b[38;5;129;01min\u001b[39;00m copy_df.index\n\u001b[32m      8\u001b[39m             \u001b[38;5;66;03m# for i in range(0, len(copy_df), 250) # (Using this for line profiler)\u001b[39;00m\n\u001b[32m      9\u001b[39m         ],\n\u001b[32m     10\u001b[39m         columns=[\u001b[33m\"\u001b[39m\u001b[33mhpg\u001b[39m\u001b[33m\"\u001b[39m, \u001b[33m\"\u001b[39m\u001b[33mhpb\u001b[39m\u001b[33m\"\u001b[39m, \u001b[33m\"\u001b[39m\u001b[33mhcg\u001b[39m\u001b[33m\"\u001b[39m, \u001b[33m\"\u001b[39m\u001b[33mhcb\u001b[39m\u001b[33m\"\u001b[39m, \u001b[33m\"\u001b[39m\u001b[33mapg\u001b[39m\u001b[33m\"\u001b[39m, \u001b[33m\"\u001b[39m\u001b[33mapb\u001b[39m\u001b[33m\"\u001b[39m, \u001b[33m\"\u001b[39m\u001b[33macg\u001b[39m\u001b[33m\"\u001b[39m, \u001b[33m\"\u001b[39m\u001b[33macb\u001b[39m\u001b[33m\"\u001b[39m],\n\u001b[32m     11\u001b[39m         index=copy_df.index\n\u001b[32m     12\u001b[39m     )\n\u001b[32m     13\u001b[39m     \u001b[38;5;28;01mreturn\u001b[39;00m cli_df\n",
      "\u001b[36mCell\u001b[39m\u001b[36m \u001b[39m\u001b[32mIn[6]\u001b[39m\u001b[32m, line 7\u001b[39m, in \u001b[36mget_comparative_outcomes_for_index\u001b[39m\u001b[34m(df, conf_lists, game_index, iters)\u001b[39m\n\u001b[32m      5\u001b[39m hpg, hcg, apb, acb = get_home_away_probs_given_lock(copy_df, conf_lists, game_index, iters=iters)\n\u001b[32m      6\u001b[39m copy_df.loc[game_index, \u001b[33m\"\u001b[39m\u001b[33mwinner\u001b[39m\u001b[33m\"\u001b[39m] = copy_df.loc[game_index, \u001b[33m\"\u001b[39m\u001b[33maway\u001b[39m\u001b[33m\"\u001b[39m]\n\u001b[32m----> \u001b[39m\u001b[32m7\u001b[39m hpb, hcb, apg, acg = \u001b[43mget_home_away_probs_given_lock\u001b[49m\u001b[43m(\u001b[49m\u001b[43mcopy_df\u001b[49m\u001b[43m,\u001b[49m\u001b[43m \u001b[49m\u001b[43mconf_lists\u001b[49m\u001b[43m,\u001b[49m\u001b[43m \u001b[49m\u001b[43mgame_index\u001b[49m\u001b[43m,\u001b[49m\u001b[43m \u001b[49m\u001b[43miters\u001b[49m\u001b[43m=\u001b[49m\u001b[43miters\u001b[49m\u001b[43m)\u001b[49m\n\u001b[32m      8\u001b[39m \u001b[38;5;28mprint\u001b[39m(\u001b[33m\"\u001b[39m\u001b[38;5;130;01m\\t\u001b[39;00m\u001b[38;5;130;01m\\t\u001b[39;00m\u001b[33m\"\u001b[39m, copy_df.loc[game_index, \u001b[33m\"\u001b[39m\u001b[33mhome\u001b[39m\u001b[33m\"\u001b[39m], copy_df.loc[game_index, \u001b[33m\"\u001b[39m\u001b[33maway\u001b[39m\u001b[33m\"\u001b[39m])\n\u001b[32m      9\u001b[39m \u001b[38;5;28mprint\u001b[39m(\u001b[33m\"\u001b[39m\u001b[38;5;130;01m\\t\u001b[39;00m\u001b[38;5;130;01m\\t\u001b[39;00m\u001b[33m\"\u001b[39m, hpg, hpb, hcg, hcb, apg, apb, acg, acb)\n",
      "\u001b[36mCell\u001b[39m\u001b[36m \u001b[39m\u001b[32mIn[5]\u001b[39m\u001b[32m, line 30\u001b[39m, in \u001b[36mget_home_away_probs_given_lock\u001b[39m\u001b[34m(df, conf_lists, lock_index, iters)\u001b[39m\n\u001b[32m     20\u001b[39m df[\u001b[33m\"\u001b[39m\u001b[33mwinner\u001b[39m\u001b[33m\"\u001b[39m] = np.where( \u001b[38;5;66;03m# choose random winners where not already locked\u001b[39;00m\n\u001b[32m     21\u001b[39m     df[\u001b[33m\"\u001b[39m\u001b[33mlock\u001b[39m\u001b[33m\"\u001b[39m],\n\u001b[32m     22\u001b[39m     df[\u001b[33m\"\u001b[39m\u001b[33mwinner\u001b[39m\u001b[33m\"\u001b[39m],\n\u001b[32m   (...)\u001b[39m\u001b[32m     27\u001b[39m     )\n\u001b[32m     28\u001b[39m )\n\u001b[32m     29\u001b[39m \u001b[38;5;66;03m# Get standings in each division\u001b[39;00m\n\u001b[32m---> \u001b[39m\u001b[32m30\u001b[39m future_results = pd.Series(\u001b[43mdf\u001b[49m\u001b[43m[\u001b[49m\u001b[43m~\u001b[49m\u001b[43mdf\u001b[49m\u001b[43m[\u001b[49m\u001b[33;43m\"\u001b[39;49m\u001b[33;43mlock\u001b[39;49m\u001b[33;43m\"\u001b[39;49m\u001b[43m]\u001b[49m\u001b[43m]\u001b[49m\u001b[43m[\u001b[49m\u001b[33;43m\"\u001b[39;49m\u001b[33;43mwinner\u001b[39;49m\u001b[33;43m\"\u001b[39;49m\u001b[43m]\u001b[49m.value_counts(), index=team_names).fillna(\u001b[32m0\u001b[39m)\n\u001b[32m     31\u001b[39m standings = start_standings + future_results\n\u001b[32m     32\u001b[39m standings += np.random.uniform(\u001b[32m0\u001b[39m, \u001b[32m0.001\u001b[39m, \u001b[38;5;28mlen\u001b[39m(standings)) \u001b[38;5;66;03m# noise to break ties randomly\u001b[39;00m\n",
      "\u001b[36mFile \u001b[39m\u001b[32m~/miniforge3/envs/fastai_env/lib/python3.12/site-packages/pandas/core/frame.py:4078\u001b[39m, in \u001b[36mDataFrame.__getitem__\u001b[39m\u001b[34m(self, key)\u001b[39m\n\u001b[32m   4071\u001b[39m \u001b[38;5;66;03m# GH#45316 Return view if key is not duplicated\u001b[39;00m\n\u001b[32m   4072\u001b[39m \u001b[38;5;66;03m# Only use drop_duplicates with duplicates for performance\u001b[39;00m\n\u001b[32m   4073\u001b[39m \u001b[38;5;28;01mif\u001b[39;00m \u001b[38;5;129;01mnot\u001b[39;00m is_mi \u001b[38;5;129;01mand\u001b[39;00m (\n\u001b[32m   4074\u001b[39m     \u001b[38;5;28mself\u001b[39m.columns.is_unique\n\u001b[32m   4075\u001b[39m     \u001b[38;5;129;01mand\u001b[39;00m key \u001b[38;5;129;01min\u001b[39;00m \u001b[38;5;28mself\u001b[39m.columns\n\u001b[32m   4076\u001b[39m     \u001b[38;5;129;01mor\u001b[39;00m key \u001b[38;5;129;01min\u001b[39;00m \u001b[38;5;28mself\u001b[39m.columns.drop_duplicates(keep=\u001b[38;5;28;01mFalse\u001b[39;00m)\n\u001b[32m   4077\u001b[39m ):\n\u001b[32m-> \u001b[39m\u001b[32m4078\u001b[39m     \u001b[38;5;28;01mreturn\u001b[39;00m \u001b[38;5;28;43mself\u001b[39;49m\u001b[43m.\u001b[49m\u001b[43m_get_item_cache\u001b[49m\u001b[43m(\u001b[49m\u001b[43mkey\u001b[49m\u001b[43m)\u001b[49m\n\u001b[32m   4080\u001b[39m \u001b[38;5;28;01melif\u001b[39;00m is_mi \u001b[38;5;129;01mand\u001b[39;00m \u001b[38;5;28mself\u001b[39m.columns.is_unique \u001b[38;5;129;01mand\u001b[39;00m key \u001b[38;5;129;01min\u001b[39;00m \u001b[38;5;28mself\u001b[39m.columns:\n\u001b[32m   4081\u001b[39m     \u001b[38;5;28;01mreturn\u001b[39;00m \u001b[38;5;28mself\u001b[39m._getitem_multilevel(key)\n",
      "\u001b[36mFile \u001b[39m\u001b[32m~/miniforge3/envs/fastai_env/lib/python3.12/site-packages/pandas/core/frame.py:4639\u001b[39m, in \u001b[36mDataFrame._get_item_cache\u001b[39m\u001b[34m(self, item)\u001b[39m\n\u001b[32m   4634\u001b[39m \u001b[38;5;28;01mif\u001b[39;00m res \u001b[38;5;129;01mis\u001b[39;00m \u001b[38;5;28;01mNone\u001b[39;00m:\n\u001b[32m   4635\u001b[39m     \u001b[38;5;66;03m# All places that call _get_item_cache have unique columns,\u001b[39;00m\n\u001b[32m   4636\u001b[39m     \u001b[38;5;66;03m#  pending resolution of GH#33047\u001b[39;00m\n\u001b[32m   4638\u001b[39m     loc = \u001b[38;5;28mself\u001b[39m.columns.get_loc(item)\n\u001b[32m-> \u001b[39m\u001b[32m4639\u001b[39m     res = \u001b[38;5;28;43mself\u001b[39;49m\u001b[43m.\u001b[49m\u001b[43m_ixs\u001b[49m\u001b[43m(\u001b[49m\u001b[43mloc\u001b[49m\u001b[43m,\u001b[49m\u001b[43m \u001b[49m\u001b[43maxis\u001b[49m\u001b[43m=\u001b[49m\u001b[32;43m1\u001b[39;49m\u001b[43m)\u001b[49m\n\u001b[32m   4641\u001b[39m     cache[item] = res\n\u001b[32m   4643\u001b[39m     \u001b[38;5;66;03m# for a chain\u001b[39;00m\n",
      "\u001b[36mFile \u001b[39m\u001b[32m~/miniforge3/envs/fastai_env/lib/python3.12/site-packages/pandas/core/frame.py:4011\u001b[39m, in \u001b[36mDataFrame._ixs\u001b[39m\u001b[34m(self, i, axis)\u001b[39m\n\u001b[32m   4008\u001b[39m label = \u001b[38;5;28mself\u001b[39m.columns[i]\n\u001b[32m   4010\u001b[39m col_mgr = \u001b[38;5;28mself\u001b[39m._mgr.iget(i)\n\u001b[32m-> \u001b[39m\u001b[32m4011\u001b[39m result = \u001b[38;5;28;43mself\u001b[39;49m\u001b[43m.\u001b[49m\u001b[43m_box_col_values\u001b[49m\u001b[43m(\u001b[49m\u001b[43mcol_mgr\u001b[49m\u001b[43m,\u001b[49m\u001b[43m \u001b[49m\u001b[43mi\u001b[49m\u001b[43m)\u001b[49m\n\u001b[32m   4013\u001b[39m \u001b[38;5;66;03m# this is a cached value, mark it so\u001b[39;00m\n\u001b[32m   4014\u001b[39m result._set_as_cached(label, \u001b[38;5;28mself\u001b[39m)\n",
      "\u001b[36mFile \u001b[39m\u001b[32m~/miniforge3/envs/fastai_env/lib/python3.12/site-packages/pandas/core/frame.py:4614\u001b[39m, in \u001b[36mDataFrame._box_col_values\u001b[39m\u001b[34m(self, values, loc)\u001b[39m\n\u001b[32m   4609\u001b[39m \u001b[38;5;250m\u001b[39m\u001b[33;03m\"\"\"\u001b[39;00m\n\u001b[32m   4610\u001b[39m \u001b[33;03mProvide boxed values for a column.\u001b[39;00m\n\u001b[32m   4611\u001b[39m \u001b[33;03m\"\"\"\u001b[39;00m\n\u001b[32m   4612\u001b[39m \u001b[38;5;66;03m# Lookup in columns so that if e.g. a str datetime was passed\u001b[39;00m\n\u001b[32m   4613\u001b[39m \u001b[38;5;66;03m#  we attach the Timestamp object as the name.\u001b[39;00m\n\u001b[32m-> \u001b[39m\u001b[32m4614\u001b[39m name = \u001b[38;5;28;43mself\u001b[39;49m\u001b[43m.\u001b[49m\u001b[43mcolumns\u001b[49m\u001b[43m[\u001b[49m\u001b[43mloc\u001b[49m\u001b[43m]\u001b[49m\n\u001b[32m   4615\u001b[39m \u001b[38;5;66;03m# We get index=self.index bc values is a SingleDataManager\u001b[39;00m\n\u001b[32m   4616\u001b[39m obj = \u001b[38;5;28mself\u001b[39m._constructor_sliced_from_mgr(values, axes=values.axes)\n",
      "\u001b[36mFile \u001b[39m\u001b[32m~/miniforge3/envs/fastai_env/lib/python3.12/site-packages/pandas/core/indexes/base.py:5386\u001b[39m, in \u001b[36mIndex.__getitem__\u001b[39m\u001b[34m(self, key)\u001b[39m\n\u001b[32m   5374\u001b[39m \u001b[38;5;250m\u001b[39m\u001b[33;03m\"\"\"\u001b[39;00m\n\u001b[32m   5375\u001b[39m \u001b[33;03mOverride numpy.ndarray's __getitem__ method to work as desired.\u001b[39;00m\n\u001b[32m   5376\u001b[39m \n\u001b[32m   (...)\u001b[39m\u001b[32m   5382\u001b[39m \n\u001b[32m   5383\u001b[39m \u001b[33;03m\"\"\"\u001b[39;00m\n\u001b[32m   5384\u001b[39m getitem = \u001b[38;5;28mself\u001b[39m._data.\u001b[34m__getitem__\u001b[39m\n\u001b[32m-> \u001b[39m\u001b[32m5386\u001b[39m \u001b[38;5;28;01mif\u001b[39;00m \u001b[43mis_integer\u001b[49m\u001b[43m(\u001b[49m\u001b[43mkey\u001b[49m\u001b[43m)\u001b[49m \u001b[38;5;129;01mor\u001b[39;00m is_float(key):\n\u001b[32m   5387\u001b[39m     \u001b[38;5;66;03m# GH#44051 exclude bool, which would return a 2d ndarray\u001b[39;00m\n\u001b[32m   5388\u001b[39m     key = com.cast_scalar_indexer(key)\n\u001b[32m   5389\u001b[39m     \u001b[38;5;28;01mreturn\u001b[39;00m getitem(key)\n",
      "\u001b[31mKeyboardInterrupt\u001b[39m: "
     ]
    }
   ],
   "source": [
    "iters = 10000 # going big..\n",
    "for start_year in [2024]:\n",
    "    print(f\"STARTING SEASON {start_year}\")\n",
    "    season_df = pd.read_csv(f\"data/{start_year}-{str(start_year + 1)[2:]}_season.csv\")\n",
    "    cli_df = get_cli_columns_whole_df(season_df, conf_lists, iters=iters)\n",
    "    df_plus_cli = pd.concat([season_df, cli_df], axis=1)\n",
    "    df_plus_cli.to_csv(f\"data/{start_year}-{str(start_year + 1)[2:]}_season_cli.csv\", index=False)"
   ]
  }
 ],
 "metadata": {
  "kernelspec": {
   "display_name": "Python 3 (ipykernel)",
   "language": "python",
   "name": "python3"
  },
  "language_info": {
   "codemirror_mode": {
    "name": "ipython",
    "version": 3
   },
   "file_extension": ".py",
   "mimetype": "text/x-python",
   "name": "python",
   "nbconvert_exporter": "python",
   "pygments_lexer": "ipython3",
   "version": "3.12.3"
  }
 },
 "nbformat": 4,
 "nbformat_minor": 5
}
