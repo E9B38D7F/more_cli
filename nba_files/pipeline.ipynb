{
 "cells": [
  {
   "cell_type": "code",
   "execution_count": 42,
   "id": "57bd236c-84ca-4754-b03e-36c378d40695",
   "metadata": {},
   "outputs": [],
   "source": [
    "import pandas as pd\n",
    "import numpy as np\n",
    "import matplotlib.pyplot as plt\n",
    "import bz2\n",
    "import json"
   ]
  },
  {
   "cell_type": "code",
   "execution_count": 43,
   "id": "b6d5e8e0-b158-45bd-9dd1-20f745333f0d",
   "metadata": {},
   "outputs": [],
   "source": [
    "file_df = pd.read_csv(\"../refined_csvs/1_full_file_df.csv\")"
   ]
  },
  {
   "cell_type": "code",
   "execution_count": 44,
   "id": "333f2265-c3de-42e9-8b05-f385ab60fb64",
   "metadata": {},
   "outputs": [],
   "source": [
    "ats = file_df[file_df[\"name\"].fillna(\"\").str.contains(\" @ \")].copy()\n",
    "ats[\"home\"] = ats[\"name\"].str.split(\" @ \").str[1]\n",
    "ats[\"away\"] = ats[\"name\"].str.split(\" @ \").str[0]"
   ]
  },
  {
   "cell_type": "code",
   "execution_count": 47,
   "id": "a507c477-ee3a-42b6-a255-db1394c144b9",
   "metadata": {},
   "outputs": [],
   "source": [
    "dfs = []\n",
    "for num in range(20, 25):\n",
    "    temp_df = pd.read_csv(f\"data/20{num}-{num + 1}_season_cli_FIX.csv\")\n",
    "    temp_df[\"season_num\"] = num - 20\n",
    "    dfs.append(temp_df)\n",
    "cli_df = pd.concat(dfs)\n",
    "cli_df[\"home_playoff_cli\"] = cli_df[\"hpg\"] - cli_df[\"hpb\"]\n",
    "cli_df[\"away_playoff_cli\"] = cli_df[\"apg\"] - cli_df[\"apb\"]\n",
    "cli_df[\"home_champ_cli\"] = cli_df[\"hcg\"] - cli_df[\"hcb\"]\n",
    "cli_df[\"away_champ_cli\"] = cli_df[\"acg\"] - cli_df[\"acb\"]"
   ]
  },
  {
   "cell_type": "code",
   "execution_count": 48,
   "id": "645d8500-45cf-4453-afde-2bad0fa5ddf9",
   "metadata": {},
   "outputs": [],
   "source": [
    "nba_teams = list(cli_df[\"home\"].unique()) + [\"Los Angeles Clippers\"]"
   ]
  },
  {
   "cell_type": "code",
   "execution_count": 53,
   "id": "e19266cb-89ce-4531-ac81-2e4eb6c77dbc",
   "metadata": {},
   "outputs": [],
   "source": [
    "nba_bets = ats[\n",
    "    (ats[\"home\"].isin(nba_teams))\n",
    "    & (ats[\"mkt_type\"] == \"MATCH_ODDS\")\n",
    "].copy()"
   ]
  },
  {
   "cell_type": "code",
   "execution_count": 54,
   "id": "21c45229-bb7c-4241-9659-ed92604e32d4",
   "metadata": {},
   "outputs": [],
   "source": [
    "nba_bets[\"us_time\"] = pd.to_datetime(nba_bets[\"time\"]).dt.tz_convert('America/Chicago')\n",
    "nba_bets[\"date\"] = nba_bets[\"us_time\"].astype(str).str[:10]"
   ]
  },
  {
   "cell_type": "code",
   "execution_count": 55,
   "id": "983d3297-2b35-4b75-a323-1a4cb5dd6945",
   "metadata": {},
   "outputs": [],
   "source": [
    "# FAMILIAR code from mlb notebook\n",
    "def bz2_to_json(filepath):\n",
    "    content_string = bz2.open(filepath, \"rt\", encoding=\"utf-8\").read()\n",
    "    # Instead of a bunch of dicts printed one after the other\n",
    "    # Reshape so it's a list of dicts\n",
    "    fixed_string = \"[\" + content_string.replace(\"}\\n{\", \"},{\") + \"]\"\n",
    "    return json.loads(fixed_string)\n",
    "\n",
    "def process_game(filename, lookback):\n",
    "    data = bz2_to_json(\"../\" + filename) # CHANGE made here: are in different directory\n",
    "    \n",
    "    # Get the time\n",
    "    game_time = data[0][\"mc\"][0][\"marketDefinition\"][\"suspendTime\"]\n",
    "    runners = data[0][\"mc\"][0][\"marketDefinition\"][\"runners\"]\n",
    "    away_name, away_id = runners[0][\"name\"], runners[0][\"id\"]\n",
    "    home_name, home_id = runners[1][\"name\"], runners[1][\"id\"]\n",
    "    \n",
    "    # Get the trades\n",
    "    home_trades = []\n",
    "    away_trades = []\n",
    "    for line in data[2:]:\n",
    "        if \"rc\" in line[\"mc\"][0]:\n",
    "            curr_time = line[\"pt\"]\n",
    "            for trade in line[\"mc\"][0][\"rc\"]:\n",
    "                if trade[\"id\"] == home_id:\n",
    "                    # home_trade_rows.append([curr_time, trade[\"ltp\"]])\n",
    "                    home_trades.append(trade[\"ltp\"])\n",
    "                elif trade[\"id\"] == away_id:\n",
    "                    # away_trade_rows.append([curr_time, trade[\"ltp\"]])\n",
    "                    away_trades.append(trade[\"ltp\"])\n",
    "                else:\n",
    "                    print(\"Questionable\")\n",
    "        try:\n",
    "            if line[\"mc\"][0][\"marketDefinition\"][\"turnInPlayEnabled\"]:\n",
    "                break\n",
    "        except KeyError:\n",
    "            pass\n",
    "    \n",
    "    # Now get the winner\n",
    "    end_runners = data[-1][\"mc\"][0][\"marketDefinition\"][\"runners\"]\n",
    "    if end_runners[0][\"status\"] == \"WINNER\":\n",
    "        winner = away_name\n",
    "    elif end_runners[1][\"status\"] == \"WINNER\":\n",
    "        winner = home_name\n",
    "    else:\n",
    "        winner = None\n",
    "    \n",
    "    return {\n",
    "        \"home_ask\": 1 / min(home_trades[-lookback:]) if len(home_trades) >= 5 else None,\n",
    "        \"home_bid\": 1 / max(home_trades[-lookback:]) if len(home_trades) >= 5 else None,\n",
    "        \"away_ask\": 1 / min(away_trades[-lookback:]) if len(away_trades) >= 5 else None,\n",
    "        \"away_bid\": 1 / max(away_trades[-lookback:]) if len(away_trades) >= 5 else None,\n",
    "        \"home_trades\": home_trades,\n",
    "        \"away_trades\": away_trades,\n",
    "        \"winner\": winner, \n",
    "        \"game_time\": game_time\n",
    "    }"
   ]
  },
  {
   "cell_type": "code",
   "execution_count": 56,
   "id": "2f9e934d-a7fb-4350-8b47-7b7c18dfcafb",
   "metadata": {},
   "outputs": [
    {
     "name": "stdout",
     "output_type": "stream",
     "text": [
      "Questionable\n",
      "Questionable\n",
      "Questionable\n",
      "Questionable\n",
      "Questionable\n",
      "Questionable\n",
      "Questionable\n",
      "Questionable\n",
      "Questionable\n"
     ]
    }
   ],
   "source": [
    "new_df = pd.DataFrame(\n",
    "    nba_bets[\"filepath\"].apply(lambda x: process_game(x, 5)).to_list(), \n",
    "    index=nba_bets.index\n",
    ")"
   ]
  },
  {
   "cell_type": "code",
   "execution_count": 57,
   "id": "4eead2b1-3c39-4e6f-b5c0-c795b97a990a",
   "metadata": {},
   "outputs": [],
   "source": [
    "full_bet_df = pd.concat([nba_bets, new_df], axis=1)"
   ]
  },
  {
   "cell_type": "code",
   "execution_count": 58,
   "id": "c43ba990-2fe2-4bdf-8108-07b35f97069b",
   "metadata": {},
   "outputs": [],
   "source": [
    "for column in [\"name\", \"home\", \"away\", \"winner\"]:\n",
    "    full_bet_df[column] = full_bet_df[column].str.replace(\"Los Angeles Clippers\", \"LA Clippers\")"
   ]
  },
  {
   "cell_type": "code",
   "execution_count": 59,
   "id": "7422ade7-dfe5-4f1c-a6bf-6373ceefb0aa",
   "metadata": {},
   "outputs": [],
   "source": [
    "full_df = full_bet_df.merge(cli_df, on=[\"date\", \"home\", \"away\"]).dropna()"
   ]
  },
  {
   "cell_type": "code",
   "execution_count": 60,
   "id": "013947c5-6ce9-4145-a751-f43d9119074c",
   "metadata": {},
   "outputs": [],
   "source": [
    "full_df[\"synth_home_bid\"] = pd.DataFrame({0: full_df[\"home_bid\"], 1: 1 - full_df[\"away_ask\"]}).max(axis=1)\n",
    "full_df[\"synth_home_ask\"] = pd.DataFrame({0: full_df[\"home_ask\"], 1: 1 - full_df[\"away_bid\"]}).max(axis=1)\n",
    "full_df[\"synth_home_mid\"] = (full_df[\"synth_home_bid\"] + full_df[\"synth_home_ask\"]) / 2\n",
    "\n",
    "full_df[\"anti_home_pnl\"] = full_df[\"synth_home_bid\"] - full_df[\"home_win\"] # bid\n",
    "full_df[\"pro_home_pnl\"] = full_df[\"home_win\"] - full_df[\"synth_home_ask\"] # ask\n",
    "\n",
    "full_df[\"date_mod_year\"] = pd.to_datetime(\"2000\" + full_df[\"time\"].str[4:])"
   ]
  },
  {
   "cell_type": "code",
   "execution_count": 61,
   "id": "09c1e258-718f-412b-a2f6-e20aa21338ee",
   "metadata": {},
   "outputs": [
    {
     "data": {
      "text/plain": [
       "pro_home_pnl    -0.013024\n",
       "anti_home_pnl    0.000790\n",
       "dtype: float64"
      ]
     },
     "execution_count": 61,
     "metadata": {},
     "output_type": "execute_result"
    }
   ],
   "source": [
    "# Check that the home team is usually a little bit overpriced\n",
    "full_df[[\"pro_home_pnl\", \"anti_home_pnl\"]].mean()"
   ]
  },
  {
   "cell_type": "code",
   "execution_count": 62,
   "id": "1e8d48d9-92ce-448a-ac02-259f7474c9b3",
   "metadata": {},
   "outputs": [
    {
     "data": {
      "text/plain": [
       "pro_home_pnl    -1.725885\n",
       "anti_home_pnl    0.104805\n",
       "dtype: float64"
      ]
     },
     "execution_count": 62,
     "metadata": {},
     "output_type": "execute_result"
    }
   ],
   "source": [
    "def get_sharpe(s): return s.sum() / (s ** 2).sum() ** 0.5\n",
    "get_sharpe(full_df[[\"pro_home_pnl\", \"anti_home_pnl\"]])"
   ]
  },
  {
   "cell_type": "code",
   "execution_count": 63,
   "id": "b0cb7472-8a84-4bfc-b517-ec6b6c03b8c9",
   "metadata": {},
   "outputs": [],
   "source": [
    "full_df.to_csv(\"data/df_bets_plus_cli.csv\", index=False)"
   ]
  }
 ],
 "metadata": {
  "kernelspec": {
   "display_name": "Python 3 (ipykernel)",
   "language": "python",
   "name": "python3"
  },
  "language_info": {
   "codemirror_mode": {
    "name": "ipython",
    "version": 3
   },
   "file_extension": ".py",
   "mimetype": "text/x-python",
   "name": "python",
   "nbconvert_exporter": "python",
   "pygments_lexer": "ipython3",
   "version": "3.12.3"
  }
 },
 "nbformat": 4,
 "nbformat_minor": 5
}
